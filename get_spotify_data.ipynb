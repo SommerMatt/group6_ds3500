{
 "cells": [
  {
   "cell_type": "code",
   "execution_count": 9,
   "metadata": {
    "collapsed": true
   },
   "outputs": [],
   "source": [
    "import pandas as pd\n",
    "import datetime\n",
    "import requests"
   ]
  },
  {
   "cell_type": "markdown",
   "source": [
    "# Reference for how to call Spotify API:\n",
    "# https://stmorse.github.io/journal/spotify-api.html"
   ],
   "metadata": {
    "collapsed": false
   }
  },
  {
   "cell_type": "code",
   "execution_count": 10,
   "outputs": [],
   "source": [
    "# To create an age column later\n",
    "now = datetime.datetime.now()"
   ],
   "metadata": {
    "collapsed": false
   }
  },
  {
   "cell_type": "code",
   "execution_count": 11,
   "outputs": [],
   "source": [
    "# Matt's Spotify api call info\n",
    "CLIENT_ID = 'a8a69aee68c7407aadc7eb1ba17b90b5'\n",
    "CLIENT_SECRET = '5694ed52d6184a95816b00272d296cf3'"
   ],
   "metadata": {
    "collapsed": false
   }
  },
  {
   "cell_type": "code",
   "execution_count": 12,
   "outputs": [],
   "source": [
    "# Generic Spotify\n",
    "AUTH_URL = 'https://accounts.spotify.com/api/token'\n",
    "CLIENT_ID = 'a8a69aee68c7407aadc7eb1ba17b90b5'\n",
    "CLIENT_SECRET = '5694ed52d6184a95816b00272d296cf3'\n",
    "\n",
    "# POST\n",
    "auth_response = requests.post(AUTH_URL, {\n",
    "    'grant_type': 'client_credentials',\n",
    "    'client_id': CLIENT_ID,\n",
    "    'client_secret': CLIENT_SECRET,\n",
    "})\n",
    "\n",
    "# convert the response to JSON\n",
    "auth_response_data = auth_response.json()\n",
    "\n",
    "# save the access token\n",
    "access_token = auth_response_data['access_token']\n",
    "\n",
    "headers = {\n",
    "    'Authorization': 'Bearer {token}'.format(token=access_token)\n",
    "}\n",
    "\n",
    "# base URL of all Spotify API endpoints\n",
    "BASE_URL = 'https://api.spotify.com/v1/'"
   ],
   "metadata": {
    "collapsed": false
   }
  },
  {
   "cell_type": "code",
   "execution_count": 13,
   "outputs": [],
   "source": [
    "taylor = '06HL4z0CvFAxyc27GXpf02'\n",
    "drake = '3TVXtAsR1Inumwj472S9r4'"
   ],
   "metadata": {
    "collapsed": false
   }
  },
  {
   "cell_type": "code",
   "execution_count": 26,
   "outputs": [],
   "source": [
    "artist_id = taylor"
   ],
   "metadata": {
    "collapsed": false
   }
  },
  {
   "cell_type": "code",
   "execution_count": 27,
   "outputs": [],
   "source": [
    "# pull all artists albums\n",
    "r = requests.get(BASE_URL + 'artists/' + artist_id + '/albums',\n",
    "                 headers=headers,\n",
    "                 params={'include_groups': 'album', 'limit': 50})\n",
    "d = r.json()"
   ],
   "metadata": {
    "collapsed": false
   }
  },
  {
   "cell_type": "code",
   "execution_count": 28,
   "outputs": [
    {
     "name": "stdout",
     "output_type": "stream",
     "text": [
      "Midnights (3am Edition)\n",
      "Red (Taylor's Version)\n",
      "Fearless (Taylor's Version)\n",
      "evermore (deluxe version)\n",
      "folklore: the long pond studio sessions (from the Disney+ special) [deluxe edition]\n",
      "folklore (deluxe version)\n",
      "Lover\n",
      "Taylor Swift Karaoke: reputation\n",
      "reputation\n",
      "1989\n",
      "Speak Now (Japanese Version)\n"
     ]
    }
   ],
   "source": [
    "data = []   # will hold all track info\n",
    "albums = [] # to keep track of duplicates\n",
    "\n",
    "# loop over albums and get all tracks\n",
    "for album in d['items']:\n",
    "    album_name = album['name']\n",
    "    album_name_first = album_name.split(' ')[0]\n",
    "\n",
    "    # this takes a few seconds so let's keep track of progress\n",
    "\n",
    "\n",
    "    if album_name_first not in albums:\n",
    "        print(album_name)\n",
    "        # pull all tracks from this album\n",
    "        r = requests.get(BASE_URL + 'albums/' + album['id'] + '/tracks',\n",
    "                         headers=headers)\n",
    "        tracks = r.json()['items']\n",
    "\n",
    "        for track in tracks:\n",
    "            # get audio features (key, liveness, danceability, ...)\n",
    "            f = requests.get(BASE_URL + 'audio-features/' + track['id'],\n",
    "                             headers=headers)\n",
    "            f = f.json()\n",
    "\n",
    "            # combine with album info\n",
    "            f.update({\n",
    "                'track_name': track['name'],\n",
    "                'album_name': album_name,\n",
    "                'release_date': album['release_date'],\n",
    "                'album_id': album['id']\n",
    "            })\n",
    "\n",
    "            data.append(f)\n",
    "            albums.append(album_name_first)"
   ],
   "metadata": {
    "collapsed": false
   }
  },
  {
   "cell_type": "code",
   "execution_count": 29,
   "outputs": [
    {
     "data": {
      "text/plain": "     danceability  energy  key  loudness  mode  speechiness  acousticness  \\\n190         0.546   0.809    4    -3.621     1       0.0410       0.00487   \n175         0.696   0.768    7    -3.863     1       0.0308       0.00461   \n176         0.608   0.785    5    -2.976     1       0.0311       0.03870   \n177         0.517   0.606    2    -5.797     1       0.0289       0.02020   \n178         0.708   0.601    7    -3.750     1       0.0306       0.10100   \n\n     instrumentalness  liveness  valence  ...  \\\n190          0.000372    0.0437    0.649  ...   \n175          0.000001    0.1010    0.692  ...   \n176          0.000000    0.1580    0.376  ...   \n177          0.000000    0.3240    0.296  ...   \n178          0.000000    0.0979    0.742  ...   \n\n                                      uri  \\\n190  spotify:track:0zcJ2N8nyYXF0rkO9MOiUU   \n175  spotify:track:4wLBRunveZpcCuivglwFPa   \n176  spotify:track:2lCii9ugWIOMGLKO5dj5WP   \n177  spotify:track:4moQek8ZD57EpFHby1uyOu   \n178  spotify:track:7rkOO7Zbr9WimwXQ7Ojfw0   \n\n                                            track_href  \\\n190  https://api.spotify.com/v1/tracks/0zcJ2N8nyYXF...   \n175  https://api.spotify.com/v1/tracks/4wLBRunveZpc...   \n176  https://api.spotify.com/v1/tracks/2lCii9ugWIOM...   \n177  https://api.spotify.com/v1/tracks/4moQek8ZD57E...   \n178  https://api.spotify.com/v1/tracks/7rkOO7Zbr9Wi...   \n\n                                          analysis_url duration_ms  \\\n190  https://api.spotify.com/v1/audio-analysis/0zcJ...      266480   \n175  https://api.spotify.com/v1/audio-analysis/4wLB...      230547   \n176  https://api.spotify.com/v1/audio-analysis/2lCi...      260947   \n177  https://api.spotify.com/v1/audio-analysis/4moQ...      293040   \n178  https://api.spotify.com/v1/audio-analysis/7rkO...      240773   \n\n    time_signature        track_name                    album_name  \\\n190              4   The Story Of Us  Speak Now (Japanese Version)   \n175              4    Mine - POP Mix  Speak Now (Japanese Version)   \n176              4        Sparks Fly  Speak Now (Japanese Version)   \n177              4  Back To December  Speak Now (Japanese Version)   \n178              4         Speak Now  Speak Now (Japanese Version)   \n\n     release_date                album_id   age  \n190    2010-10-25  4ErTrymYK8VIBQR8J8Hjy1  4424  \n175    2010-10-25  4ErTrymYK8VIBQR8J8Hjy1  4424  \n176    2010-10-25  4ErTrymYK8VIBQR8J8Hjy1  4424  \n177    2010-10-25  4ErTrymYK8VIBQR8J8Hjy1  4424  \n178    2010-10-25  4ErTrymYK8VIBQR8J8Hjy1  4424  \n\n[5 rows x 23 columns]",
      "text/html": "<div>\n<style scoped>\n    .dataframe tbody tr th:only-of-type {\n        vertical-align: middle;\n    }\n\n    .dataframe tbody tr th {\n        vertical-align: top;\n    }\n\n    .dataframe thead th {\n        text-align: right;\n    }\n</style>\n<table border=\"1\" class=\"dataframe\">\n  <thead>\n    <tr style=\"text-align: right;\">\n      <th></th>\n      <th>danceability</th>\n      <th>energy</th>\n      <th>key</th>\n      <th>loudness</th>\n      <th>mode</th>\n      <th>speechiness</th>\n      <th>acousticness</th>\n      <th>instrumentalness</th>\n      <th>liveness</th>\n      <th>valence</th>\n      <th>...</th>\n      <th>uri</th>\n      <th>track_href</th>\n      <th>analysis_url</th>\n      <th>duration_ms</th>\n      <th>time_signature</th>\n      <th>track_name</th>\n      <th>album_name</th>\n      <th>release_date</th>\n      <th>album_id</th>\n      <th>age</th>\n    </tr>\n  </thead>\n  <tbody>\n    <tr>\n      <th>190</th>\n      <td>0.546</td>\n      <td>0.809</td>\n      <td>4</td>\n      <td>-3.621</td>\n      <td>1</td>\n      <td>0.0410</td>\n      <td>0.00487</td>\n      <td>0.000372</td>\n      <td>0.0437</td>\n      <td>0.649</td>\n      <td>...</td>\n      <td>spotify:track:0zcJ2N8nyYXF0rkO9MOiUU</td>\n      <td>https://api.spotify.com/v1/tracks/0zcJ2N8nyYXF...</td>\n      <td>https://api.spotify.com/v1/audio-analysis/0zcJ...</td>\n      <td>266480</td>\n      <td>4</td>\n      <td>The Story Of Us</td>\n      <td>Speak Now (Japanese Version)</td>\n      <td>2010-10-25</td>\n      <td>4ErTrymYK8VIBQR8J8Hjy1</td>\n      <td>4424</td>\n    </tr>\n    <tr>\n      <th>175</th>\n      <td>0.696</td>\n      <td>0.768</td>\n      <td>7</td>\n      <td>-3.863</td>\n      <td>1</td>\n      <td>0.0308</td>\n      <td>0.00461</td>\n      <td>0.000001</td>\n      <td>0.1010</td>\n      <td>0.692</td>\n      <td>...</td>\n      <td>spotify:track:4wLBRunveZpcCuivglwFPa</td>\n      <td>https://api.spotify.com/v1/tracks/4wLBRunveZpc...</td>\n      <td>https://api.spotify.com/v1/audio-analysis/4wLB...</td>\n      <td>230547</td>\n      <td>4</td>\n      <td>Mine - POP Mix</td>\n      <td>Speak Now (Japanese Version)</td>\n      <td>2010-10-25</td>\n      <td>4ErTrymYK8VIBQR8J8Hjy1</td>\n      <td>4424</td>\n    </tr>\n    <tr>\n      <th>176</th>\n      <td>0.608</td>\n      <td>0.785</td>\n      <td>5</td>\n      <td>-2.976</td>\n      <td>1</td>\n      <td>0.0311</td>\n      <td>0.03870</td>\n      <td>0.000000</td>\n      <td>0.1580</td>\n      <td>0.376</td>\n      <td>...</td>\n      <td>spotify:track:2lCii9ugWIOMGLKO5dj5WP</td>\n      <td>https://api.spotify.com/v1/tracks/2lCii9ugWIOM...</td>\n      <td>https://api.spotify.com/v1/audio-analysis/2lCi...</td>\n      <td>260947</td>\n      <td>4</td>\n      <td>Sparks Fly</td>\n      <td>Speak Now (Japanese Version)</td>\n      <td>2010-10-25</td>\n      <td>4ErTrymYK8VIBQR8J8Hjy1</td>\n      <td>4424</td>\n    </tr>\n    <tr>\n      <th>177</th>\n      <td>0.517</td>\n      <td>0.606</td>\n      <td>2</td>\n      <td>-5.797</td>\n      <td>1</td>\n      <td>0.0289</td>\n      <td>0.02020</td>\n      <td>0.000000</td>\n      <td>0.3240</td>\n      <td>0.296</td>\n      <td>...</td>\n      <td>spotify:track:4moQek8ZD57EpFHby1uyOu</td>\n      <td>https://api.spotify.com/v1/tracks/4moQek8ZD57E...</td>\n      <td>https://api.spotify.com/v1/audio-analysis/4moQ...</td>\n      <td>293040</td>\n      <td>4</td>\n      <td>Back To December</td>\n      <td>Speak Now (Japanese Version)</td>\n      <td>2010-10-25</td>\n      <td>4ErTrymYK8VIBQR8J8Hjy1</td>\n      <td>4424</td>\n    </tr>\n    <tr>\n      <th>178</th>\n      <td>0.708</td>\n      <td>0.601</td>\n      <td>7</td>\n      <td>-3.750</td>\n      <td>1</td>\n      <td>0.0306</td>\n      <td>0.10100</td>\n      <td>0.000000</td>\n      <td>0.0979</td>\n      <td>0.742</td>\n      <td>...</td>\n      <td>spotify:track:7rkOO7Zbr9WimwXQ7Ojfw0</td>\n      <td>https://api.spotify.com/v1/tracks/7rkOO7Zbr9Wi...</td>\n      <td>https://api.spotify.com/v1/audio-analysis/7rkO...</td>\n      <td>240773</td>\n      <td>4</td>\n      <td>Speak Now</td>\n      <td>Speak Now (Japanese Version)</td>\n      <td>2010-10-25</td>\n      <td>4ErTrymYK8VIBQR8J8Hjy1</td>\n      <td>4424</td>\n    </tr>\n  </tbody>\n</table>\n<p>5 rows × 23 columns</p>\n</div>"
     },
     "execution_count": 29,
     "metadata": {},
     "output_type": "execute_result"
    }
   ],
   "source": [
    "df = pd.DataFrame(data)\n",
    "df['release_date'] = pd.to_datetime(df['release_date'])\n",
    "df = df.sort_values(by='release_date')\n",
    "\n",
    "df['age'] = df['release_date'].apply(lambda x : (now - x).days)\n",
    "df.head()"
   ],
   "metadata": {
    "collapsed": false
   }
  },
  {
   "cell_type": "code",
   "execution_count": 30,
   "outputs": [
    {
     "data": {
      "text/plain": "     danceability  energy  key  loudness  mode  speechiness  acousticness  \\\n190         0.546   0.809    4    -3.621     1       0.0410       0.00487   \n175         0.696   0.768    7    -3.863     1       0.0308       0.00461   \n176         0.608   0.785    5    -2.976     1       0.0311       0.03870   \n177         0.517   0.606    2    -5.797     1       0.0289       0.02020   \n178         0.708   0.601    7    -3.750     1       0.0306       0.10100   \n..            ...     ...  ...       ...   ...          ...           ...   \n17          0.675   0.466   11    -9.738     0       0.2010       0.36100   \n18          0.483   0.840    7    -6.508     1       0.1190       0.43000   \n19          0.562   0.388    0   -12.088     1       0.0705       0.48100   \n10          0.649   0.622    8    -7.054     1       0.0582       0.07400   \n0           0.735   0.444   10   -10.519     1       0.0684       0.20400   \n\n     instrumentalness  liveness  valence    tempo  duration_ms  \\\n190          0.000372    0.0437   0.6490  139.910       266480   \n175          0.000001    0.1010   0.6920  121.050       230547   \n176          0.000000    0.1580   0.3760  114.985       260947   \n177          0.000000    0.3240   0.2960  141.929       293040   \n178          0.000000    0.0979   0.7420  118.962       240773   \n..                ...       ...      ...      ...          ...   \n17           0.000000    0.1100   0.3470  140.864       148781   \n18           0.000575    0.1460   0.5500  157.979       260362   \n19           0.001450    0.1170   0.1590  107.747       225194   \n10           0.000000    0.5940   0.1060   90.024       204852   \n0            0.001200    0.1700   0.0984   97.038       202396   \n\n                        track_name   age                    album_name  \n190                The Story Of Us  4424  Speak Now (Japanese Version)  \n175                 Mine - POP Mix  4424  Speak Now (Japanese Version)  \n176                     Sparks Fly  4424  Speak Now (Japanese Version)  \n177               Back To December  4424  Speak Now (Japanese Version)  \n178                      Speak Now  4424  Speak Now (Japanese Version)  \n..                             ...   ...                           ...  \n17                          Glitch    44       Midnights (3am Edition)  \n18   Would've, Could've, Should've    44       Midnights (3am Edition)  \n19                     Dear Reader    44       Midnights (3am Edition)  \n10                           Karma    44       Midnights (3am Edition)  \n0                    Lavender Haze    44       Midnights (3am Edition)  \n\n[191 rows x 15 columns]",
      "text/html": "<div>\n<style scoped>\n    .dataframe tbody tr th:only-of-type {\n        vertical-align: middle;\n    }\n\n    .dataframe tbody tr th {\n        vertical-align: top;\n    }\n\n    .dataframe thead th {\n        text-align: right;\n    }\n</style>\n<table border=\"1\" class=\"dataframe\">\n  <thead>\n    <tr style=\"text-align: right;\">\n      <th></th>\n      <th>danceability</th>\n      <th>energy</th>\n      <th>key</th>\n      <th>loudness</th>\n      <th>mode</th>\n      <th>speechiness</th>\n      <th>acousticness</th>\n      <th>instrumentalness</th>\n      <th>liveness</th>\n      <th>valence</th>\n      <th>tempo</th>\n      <th>duration_ms</th>\n      <th>track_name</th>\n      <th>age</th>\n      <th>album_name</th>\n    </tr>\n  </thead>\n  <tbody>\n    <tr>\n      <th>190</th>\n      <td>0.546</td>\n      <td>0.809</td>\n      <td>4</td>\n      <td>-3.621</td>\n      <td>1</td>\n      <td>0.0410</td>\n      <td>0.00487</td>\n      <td>0.000372</td>\n      <td>0.0437</td>\n      <td>0.6490</td>\n      <td>139.910</td>\n      <td>266480</td>\n      <td>The Story Of Us</td>\n      <td>4424</td>\n      <td>Speak Now (Japanese Version)</td>\n    </tr>\n    <tr>\n      <th>175</th>\n      <td>0.696</td>\n      <td>0.768</td>\n      <td>7</td>\n      <td>-3.863</td>\n      <td>1</td>\n      <td>0.0308</td>\n      <td>0.00461</td>\n      <td>0.000001</td>\n      <td>0.1010</td>\n      <td>0.6920</td>\n      <td>121.050</td>\n      <td>230547</td>\n      <td>Mine - POP Mix</td>\n      <td>4424</td>\n      <td>Speak Now (Japanese Version)</td>\n    </tr>\n    <tr>\n      <th>176</th>\n      <td>0.608</td>\n      <td>0.785</td>\n      <td>5</td>\n      <td>-2.976</td>\n      <td>1</td>\n      <td>0.0311</td>\n      <td>0.03870</td>\n      <td>0.000000</td>\n      <td>0.1580</td>\n      <td>0.3760</td>\n      <td>114.985</td>\n      <td>260947</td>\n      <td>Sparks Fly</td>\n      <td>4424</td>\n      <td>Speak Now (Japanese Version)</td>\n    </tr>\n    <tr>\n      <th>177</th>\n      <td>0.517</td>\n      <td>0.606</td>\n      <td>2</td>\n      <td>-5.797</td>\n      <td>1</td>\n      <td>0.0289</td>\n      <td>0.02020</td>\n      <td>0.000000</td>\n      <td>0.3240</td>\n      <td>0.2960</td>\n      <td>141.929</td>\n      <td>293040</td>\n      <td>Back To December</td>\n      <td>4424</td>\n      <td>Speak Now (Japanese Version)</td>\n    </tr>\n    <tr>\n      <th>178</th>\n      <td>0.708</td>\n      <td>0.601</td>\n      <td>7</td>\n      <td>-3.750</td>\n      <td>1</td>\n      <td>0.0306</td>\n      <td>0.10100</td>\n      <td>0.000000</td>\n      <td>0.0979</td>\n      <td>0.7420</td>\n      <td>118.962</td>\n      <td>240773</td>\n      <td>Speak Now</td>\n      <td>4424</td>\n      <td>Speak Now (Japanese Version)</td>\n    </tr>\n    <tr>\n      <th>...</th>\n      <td>...</td>\n      <td>...</td>\n      <td>...</td>\n      <td>...</td>\n      <td>...</td>\n      <td>...</td>\n      <td>...</td>\n      <td>...</td>\n      <td>...</td>\n      <td>...</td>\n      <td>...</td>\n      <td>...</td>\n      <td>...</td>\n      <td>...</td>\n      <td>...</td>\n    </tr>\n    <tr>\n      <th>17</th>\n      <td>0.675</td>\n      <td>0.466</td>\n      <td>11</td>\n      <td>-9.738</td>\n      <td>0</td>\n      <td>0.2010</td>\n      <td>0.36100</td>\n      <td>0.000000</td>\n      <td>0.1100</td>\n      <td>0.3470</td>\n      <td>140.864</td>\n      <td>148781</td>\n      <td>Glitch</td>\n      <td>44</td>\n      <td>Midnights (3am Edition)</td>\n    </tr>\n    <tr>\n      <th>18</th>\n      <td>0.483</td>\n      <td>0.840</td>\n      <td>7</td>\n      <td>-6.508</td>\n      <td>1</td>\n      <td>0.1190</td>\n      <td>0.43000</td>\n      <td>0.000575</td>\n      <td>0.1460</td>\n      <td>0.5500</td>\n      <td>157.979</td>\n      <td>260362</td>\n      <td>Would've, Could've, Should've</td>\n      <td>44</td>\n      <td>Midnights (3am Edition)</td>\n    </tr>\n    <tr>\n      <th>19</th>\n      <td>0.562</td>\n      <td>0.388</td>\n      <td>0</td>\n      <td>-12.088</td>\n      <td>1</td>\n      <td>0.0705</td>\n      <td>0.48100</td>\n      <td>0.001450</td>\n      <td>0.1170</td>\n      <td>0.1590</td>\n      <td>107.747</td>\n      <td>225194</td>\n      <td>Dear Reader</td>\n      <td>44</td>\n      <td>Midnights (3am Edition)</td>\n    </tr>\n    <tr>\n      <th>10</th>\n      <td>0.649</td>\n      <td>0.622</td>\n      <td>8</td>\n      <td>-7.054</td>\n      <td>1</td>\n      <td>0.0582</td>\n      <td>0.07400</td>\n      <td>0.000000</td>\n      <td>0.5940</td>\n      <td>0.1060</td>\n      <td>90.024</td>\n      <td>204852</td>\n      <td>Karma</td>\n      <td>44</td>\n      <td>Midnights (3am Edition)</td>\n    </tr>\n    <tr>\n      <th>0</th>\n      <td>0.735</td>\n      <td>0.444</td>\n      <td>10</td>\n      <td>-10.519</td>\n      <td>1</td>\n      <td>0.0684</td>\n      <td>0.20400</td>\n      <td>0.001200</td>\n      <td>0.1700</td>\n      <td>0.0984</td>\n      <td>97.038</td>\n      <td>202396</td>\n      <td>Lavender Haze</td>\n      <td>44</td>\n      <td>Midnights (3am Edition)</td>\n    </tr>\n  </tbody>\n</table>\n<p>191 rows × 15 columns</p>\n</div>"
     },
     "execution_count": 30,
     "metadata": {},
     "output_type": "execute_result"
    }
   ],
   "source": [
    "# Grabbing specific columns\n",
    "graph_columns = ['danceability', 'energy', 'key', 'loudness', 'mode', 'speechiness',\n",
    "                 'acousticness', 'instrumentalness', 'liveness', 'valence', 'tempo', 'duration_ms',\n",
    "                 'track_name', 'age', 'album_name']\n",
    "\n",
    "df = df.loc[:,graph_columns]\n",
    "df"
   ],
   "metadata": {
    "collapsed": false
   }
  },
  {
   "cell_type": "code",
   "execution_count": 31,
   "outputs": [],
   "source": [
    "if artist_id == taylor:\n",
    "    taylor_rename_df = {\n",
    "        'Speak Now (Japanese Version)' : 'Speak Now' ,\n",
    "        '1989' : '1989' ,\n",
    "        'reputation' : 'Reputation' ,\n",
    "        'Lover' : 'Lover' ,\n",
    "        'folklore (deluxe version)' : 'Folklore' ,\n",
    "        'evermore (deluxe version)' : 'Evermore' ,\n",
    "        \"Fearless (Taylor's Version)\" : 'Fearless' ,\n",
    "        \"Red (Taylor's Version)\" : 'Red' ,\n",
    "        'Midnights (3am Edition)' : 'Taylor Swift Album',\n",
    "        'Taylor Swift Karaoke: reputation' : 'x',\n",
    "        'folklore: the long pond studio sessions (from the Disney+ special) [deluxe edition]' : 'xx'\n",
    "    }\n",
    "    df['album_name'] = df['album_name'].apply(lambda x: taylor_rename_df[x])"
   ],
   "metadata": {
    "collapsed": false
   }
  },
  {
   "cell_type": "code",
   "execution_count": 32,
   "outputs": [],
   "source": [
    "if artist_id == drake:\n",
    "    drake_rename_df = {\n",
    "        \"Her Loss\": \"a\",\n",
    "        \"Honestly, Nevermind\": \"b\",\n",
    "        \"Certified Lover Boy\": \"Certified Lover Boy\",\n",
    "        \"Dark Lane Demo Tapes\": \"c\",\n",
    "        \"Care Package\": \"d\",\n",
    "        \"So Far Gone\": \"e\",\n",
    "        \"Scorpion\": \"Scorpion\",\n",
    "        \"More Life\": \"f\",\n",
    "        \"Views\": \"Views\",\n",
    "        \"What A Time To Be Alive\": \"g\",\n",
    "        \"If You're Reading This It's Too Late\": \"h\",\n",
    "        \"Nothing Was The Same (Deluxe)\": \"Nothing Was the Same\",\n",
    "        \"Take Care (Deluxe)\": \"Take Care\",\n",
    "        \"Thank Me Later (Int'l Version)\": \"Thank me Later\"\n",
    "    }\n",
    "    df['album_name'] = df['album_name'].apply(lambda x: drake_rename_df[x])"
   ],
   "metadata": {
    "collapsed": false
   }
  },
  {
   "cell_type": "code",
   "execution_count": 33,
   "outputs": [
    {
     "data": {
      "text/plain": "190             Speak Now\n175             Speak Now\n176             Speak Now\n177             Speak Now\n178             Speak Now\n              ...        \n17     Taylor Swift Album\n18     Taylor Swift Album\n19     Taylor Swift Album\n10     Taylor Swift Album\n0      Taylor Swift Album\nName: album_name, Length: 191, dtype: object"
     },
     "execution_count": 33,
     "metadata": {},
     "output_type": "execute_result"
    }
   ],
   "source": [
    "df['album_name']"
   ],
   "metadata": {
    "collapsed": false
   }
  },
  {
   "cell_type": "code",
   "execution_count": 34,
   "outputs": [
    {
     "data": {
      "text/plain": "     danceability  energy  key  loudness  mode  speechiness  acousticness  \\\n190         0.546   0.809    4    -3.621     1       0.0410       0.00487   \n175         0.696   0.768    7    -3.863     1       0.0308       0.00461   \n176         0.608   0.785    5    -2.976     1       0.0311       0.03870   \n177         0.517   0.606    2    -5.797     1       0.0289       0.02020   \n178         0.708   0.601    7    -3.750     1       0.0306       0.10100   \n..            ...     ...  ...       ...   ...          ...           ...   \n17          0.675   0.466   11    -9.738     0       0.2010       0.36100   \n18          0.483   0.840    7    -6.508     1       0.1190       0.43000   \n19          0.562   0.388    0   -12.088     1       0.0705       0.48100   \n10          0.649   0.622    8    -7.054     1       0.0582       0.07400   \n0           0.735   0.444   10   -10.519     1       0.0684       0.20400   \n\n     instrumentalness  liveness  valence    tempo  duration_ms  \\\n190          0.000372    0.0437   0.6490  139.910       266480   \n175          0.000001    0.1010   0.6920  121.050       230547   \n176          0.000000    0.1580   0.3760  114.985       260947   \n177          0.000000    0.3240   0.2960  141.929       293040   \n178          0.000000    0.0979   0.7420  118.962       240773   \n..                ...       ...      ...      ...          ...   \n17           0.000000    0.1100   0.3470  140.864       148781   \n18           0.000575    0.1460   0.5500  157.979       260362   \n19           0.001450    0.1170   0.1590  107.747       225194   \n10           0.000000    0.5940   0.1060   90.024       204852   \n0            0.001200    0.1700   0.0984   97.038       202396   \n\n                        track_name   age          album_name  \n190                The Story Of Us  4424           Speak Now  \n175                 Mine - POP Mix  4424           Speak Now  \n176                     Sparks Fly  4424           Speak Now  \n177               Back To December  4424           Speak Now  \n178                      Speak Now  4424           Speak Now  \n..                             ...   ...                 ...  \n17                          Glitch    44  Taylor Swift Album  \n18   Would've, Could've, Should've    44  Taylor Swift Album  \n19                     Dear Reader    44  Taylor Swift Album  \n10                           Karma    44  Taylor Swift Album  \n0                    Lavender Haze    44  Taylor Swift Album  \n\n[191 rows x 15 columns]",
      "text/html": "<div>\n<style scoped>\n    .dataframe tbody tr th:only-of-type {\n        vertical-align: middle;\n    }\n\n    .dataframe tbody tr th {\n        vertical-align: top;\n    }\n\n    .dataframe thead th {\n        text-align: right;\n    }\n</style>\n<table border=\"1\" class=\"dataframe\">\n  <thead>\n    <tr style=\"text-align: right;\">\n      <th></th>\n      <th>danceability</th>\n      <th>energy</th>\n      <th>key</th>\n      <th>loudness</th>\n      <th>mode</th>\n      <th>speechiness</th>\n      <th>acousticness</th>\n      <th>instrumentalness</th>\n      <th>liveness</th>\n      <th>valence</th>\n      <th>tempo</th>\n      <th>duration_ms</th>\n      <th>track_name</th>\n      <th>age</th>\n      <th>album_name</th>\n    </tr>\n  </thead>\n  <tbody>\n    <tr>\n      <th>190</th>\n      <td>0.546</td>\n      <td>0.809</td>\n      <td>4</td>\n      <td>-3.621</td>\n      <td>1</td>\n      <td>0.0410</td>\n      <td>0.00487</td>\n      <td>0.000372</td>\n      <td>0.0437</td>\n      <td>0.6490</td>\n      <td>139.910</td>\n      <td>266480</td>\n      <td>The Story Of Us</td>\n      <td>4424</td>\n      <td>Speak Now</td>\n    </tr>\n    <tr>\n      <th>175</th>\n      <td>0.696</td>\n      <td>0.768</td>\n      <td>7</td>\n      <td>-3.863</td>\n      <td>1</td>\n      <td>0.0308</td>\n      <td>0.00461</td>\n      <td>0.000001</td>\n      <td>0.1010</td>\n      <td>0.6920</td>\n      <td>121.050</td>\n      <td>230547</td>\n      <td>Mine - POP Mix</td>\n      <td>4424</td>\n      <td>Speak Now</td>\n    </tr>\n    <tr>\n      <th>176</th>\n      <td>0.608</td>\n      <td>0.785</td>\n      <td>5</td>\n      <td>-2.976</td>\n      <td>1</td>\n      <td>0.0311</td>\n      <td>0.03870</td>\n      <td>0.000000</td>\n      <td>0.1580</td>\n      <td>0.3760</td>\n      <td>114.985</td>\n      <td>260947</td>\n      <td>Sparks Fly</td>\n      <td>4424</td>\n      <td>Speak Now</td>\n    </tr>\n    <tr>\n      <th>177</th>\n      <td>0.517</td>\n      <td>0.606</td>\n      <td>2</td>\n      <td>-5.797</td>\n      <td>1</td>\n      <td>0.0289</td>\n      <td>0.02020</td>\n      <td>0.000000</td>\n      <td>0.3240</td>\n      <td>0.2960</td>\n      <td>141.929</td>\n      <td>293040</td>\n      <td>Back To December</td>\n      <td>4424</td>\n      <td>Speak Now</td>\n    </tr>\n    <tr>\n      <th>178</th>\n      <td>0.708</td>\n      <td>0.601</td>\n      <td>7</td>\n      <td>-3.750</td>\n      <td>1</td>\n      <td>0.0306</td>\n      <td>0.10100</td>\n      <td>0.000000</td>\n      <td>0.0979</td>\n      <td>0.7420</td>\n      <td>118.962</td>\n      <td>240773</td>\n      <td>Speak Now</td>\n      <td>4424</td>\n      <td>Speak Now</td>\n    </tr>\n    <tr>\n      <th>...</th>\n      <td>...</td>\n      <td>...</td>\n      <td>...</td>\n      <td>...</td>\n      <td>...</td>\n      <td>...</td>\n      <td>...</td>\n      <td>...</td>\n      <td>...</td>\n      <td>...</td>\n      <td>...</td>\n      <td>...</td>\n      <td>...</td>\n      <td>...</td>\n      <td>...</td>\n    </tr>\n    <tr>\n      <th>17</th>\n      <td>0.675</td>\n      <td>0.466</td>\n      <td>11</td>\n      <td>-9.738</td>\n      <td>0</td>\n      <td>0.2010</td>\n      <td>0.36100</td>\n      <td>0.000000</td>\n      <td>0.1100</td>\n      <td>0.3470</td>\n      <td>140.864</td>\n      <td>148781</td>\n      <td>Glitch</td>\n      <td>44</td>\n      <td>Taylor Swift Album</td>\n    </tr>\n    <tr>\n      <th>18</th>\n      <td>0.483</td>\n      <td>0.840</td>\n      <td>7</td>\n      <td>-6.508</td>\n      <td>1</td>\n      <td>0.1190</td>\n      <td>0.43000</td>\n      <td>0.000575</td>\n      <td>0.1460</td>\n      <td>0.5500</td>\n      <td>157.979</td>\n      <td>260362</td>\n      <td>Would've, Could've, Should've</td>\n      <td>44</td>\n      <td>Taylor Swift Album</td>\n    </tr>\n    <tr>\n      <th>19</th>\n      <td>0.562</td>\n      <td>0.388</td>\n      <td>0</td>\n      <td>-12.088</td>\n      <td>1</td>\n      <td>0.0705</td>\n      <td>0.48100</td>\n      <td>0.001450</td>\n      <td>0.1170</td>\n      <td>0.1590</td>\n      <td>107.747</td>\n      <td>225194</td>\n      <td>Dear Reader</td>\n      <td>44</td>\n      <td>Taylor Swift Album</td>\n    </tr>\n    <tr>\n      <th>10</th>\n      <td>0.649</td>\n      <td>0.622</td>\n      <td>8</td>\n      <td>-7.054</td>\n      <td>1</td>\n      <td>0.0582</td>\n      <td>0.07400</td>\n      <td>0.000000</td>\n      <td>0.5940</td>\n      <td>0.1060</td>\n      <td>90.024</td>\n      <td>204852</td>\n      <td>Karma</td>\n      <td>44</td>\n      <td>Taylor Swift Album</td>\n    </tr>\n    <tr>\n      <th>0</th>\n      <td>0.735</td>\n      <td>0.444</td>\n      <td>10</td>\n      <td>-10.519</td>\n      <td>1</td>\n      <td>0.0684</td>\n      <td>0.20400</td>\n      <td>0.001200</td>\n      <td>0.1700</td>\n      <td>0.0984</td>\n      <td>97.038</td>\n      <td>202396</td>\n      <td>Lavender Haze</td>\n      <td>44</td>\n      <td>Taylor Swift Album</td>\n    </tr>\n  </tbody>\n</table>\n<p>191 rows × 15 columns</p>\n</div>"
     },
     "execution_count": 34,
     "metadata": {},
     "output_type": "execute_result"
    }
   ],
   "source": [
    "df"
   ],
   "metadata": {
    "collapsed": false
   }
  },
  {
   "cell_type": "code",
   "execution_count": 35,
   "outputs": [
    {
     "data": {
      "text/plain": "     danceability  energy       key  loudness  mode  speechiness  \\\n190         0.546   0.809  0.363636  0.928509     1       0.0410   \n175         0.696   0.768  0.636364  0.910855     1       0.0308   \n176         0.608   0.785  0.454545  0.975562     1       0.0311   \n177         0.517   0.606  0.181818  0.769769     1       0.0289   \n178         0.708   0.601  0.636364  0.919098     1       0.0306   \n..            ...     ...       ...       ...   ...          ...   \n17          0.675   0.466  1.000000  0.482273     0       0.2010   \n18          0.483   0.840  0.636364  0.717902     1       0.1190   \n19          0.562   0.388  0.000000  0.310840     1       0.0705   \n10          0.649   0.622  0.727273  0.678071     1       0.0582   \n0           0.735   0.444  0.909091  0.425299     1       0.0684   \n\n     acousticness  instrumentalness  liveness  valence     tempo  duration_ms  \\\n190       0.00487          0.000372    0.0437   0.6490  0.751280       266480   \n175       0.00461          0.000001    0.1010   0.6920  0.683304       230547   \n176       0.03870          0.000000    0.1580   0.3760  0.661444       260947   \n177       0.02020          0.000000    0.3240   0.2960  0.758556       293040   \n178       0.10100          0.000000    0.0979   0.7420  0.675778       240773   \n..            ...               ...       ...      ...       ...          ...   \n17        0.36100          0.000000    0.1100   0.3470  0.754718       148781   \n18        0.43000          0.000575    0.1460   0.5500  0.816404       260362   \n19        0.48100          0.001450    0.1170   0.1590  0.635357       225194   \n10        0.07400          0.000000    0.5940   0.1060  0.571479       204852   \n0         0.20400          0.001200    0.1700   0.0984  0.596759       202396   \n\n                        track_name       age          album_name  \n190                The Story Of Us  1.000000           Speak Now  \n175                 Mine - POP Mix  1.000000           Speak Now  \n176                     Sparks Fly  1.000000           Speak Now  \n177               Back To December  1.000000           Speak Now  \n178                      Speak Now  1.000000           Speak Now  \n..                             ...       ...                 ...  \n17                          Glitch  0.019696  Taylor Swift Album  \n18   Would've, Could've, Should've  0.019696  Taylor Swift Album  \n19                     Dear Reader  0.019696  Taylor Swift Album  \n10                           Karma  0.019696  Taylor Swift Album  \n0                    Lavender Haze  0.019696  Taylor Swift Album  \n\n[191 rows x 15 columns]",
      "text/html": "<div>\n<style scoped>\n    .dataframe tbody tr th:only-of-type {\n        vertical-align: middle;\n    }\n\n    .dataframe tbody tr th {\n        vertical-align: top;\n    }\n\n    .dataframe thead th {\n        text-align: right;\n    }\n</style>\n<table border=\"1\" class=\"dataframe\">\n  <thead>\n    <tr style=\"text-align: right;\">\n      <th></th>\n      <th>danceability</th>\n      <th>energy</th>\n      <th>key</th>\n      <th>loudness</th>\n      <th>mode</th>\n      <th>speechiness</th>\n      <th>acousticness</th>\n      <th>instrumentalness</th>\n      <th>liveness</th>\n      <th>valence</th>\n      <th>tempo</th>\n      <th>duration_ms</th>\n      <th>track_name</th>\n      <th>age</th>\n      <th>album_name</th>\n    </tr>\n  </thead>\n  <tbody>\n    <tr>\n      <th>190</th>\n      <td>0.546</td>\n      <td>0.809</td>\n      <td>0.363636</td>\n      <td>0.928509</td>\n      <td>1</td>\n      <td>0.0410</td>\n      <td>0.00487</td>\n      <td>0.000372</td>\n      <td>0.0437</td>\n      <td>0.6490</td>\n      <td>0.751280</td>\n      <td>266480</td>\n      <td>The Story Of Us</td>\n      <td>1.000000</td>\n      <td>Speak Now</td>\n    </tr>\n    <tr>\n      <th>175</th>\n      <td>0.696</td>\n      <td>0.768</td>\n      <td>0.636364</td>\n      <td>0.910855</td>\n      <td>1</td>\n      <td>0.0308</td>\n      <td>0.00461</td>\n      <td>0.000001</td>\n      <td>0.1010</td>\n      <td>0.6920</td>\n      <td>0.683304</td>\n      <td>230547</td>\n      <td>Mine - POP Mix</td>\n      <td>1.000000</td>\n      <td>Speak Now</td>\n    </tr>\n    <tr>\n      <th>176</th>\n      <td>0.608</td>\n      <td>0.785</td>\n      <td>0.454545</td>\n      <td>0.975562</td>\n      <td>1</td>\n      <td>0.0311</td>\n      <td>0.03870</td>\n      <td>0.000000</td>\n      <td>0.1580</td>\n      <td>0.3760</td>\n      <td>0.661444</td>\n      <td>260947</td>\n      <td>Sparks Fly</td>\n      <td>1.000000</td>\n      <td>Speak Now</td>\n    </tr>\n    <tr>\n      <th>177</th>\n      <td>0.517</td>\n      <td>0.606</td>\n      <td>0.181818</td>\n      <td>0.769769</td>\n      <td>1</td>\n      <td>0.0289</td>\n      <td>0.02020</td>\n      <td>0.000000</td>\n      <td>0.3240</td>\n      <td>0.2960</td>\n      <td>0.758556</td>\n      <td>293040</td>\n      <td>Back To December</td>\n      <td>1.000000</td>\n      <td>Speak Now</td>\n    </tr>\n    <tr>\n      <th>178</th>\n      <td>0.708</td>\n      <td>0.601</td>\n      <td>0.636364</td>\n      <td>0.919098</td>\n      <td>1</td>\n      <td>0.0306</td>\n      <td>0.10100</td>\n      <td>0.000000</td>\n      <td>0.0979</td>\n      <td>0.7420</td>\n      <td>0.675778</td>\n      <td>240773</td>\n      <td>Speak Now</td>\n      <td>1.000000</td>\n      <td>Speak Now</td>\n    </tr>\n    <tr>\n      <th>...</th>\n      <td>...</td>\n      <td>...</td>\n      <td>...</td>\n      <td>...</td>\n      <td>...</td>\n      <td>...</td>\n      <td>...</td>\n      <td>...</td>\n      <td>...</td>\n      <td>...</td>\n      <td>...</td>\n      <td>...</td>\n      <td>...</td>\n      <td>...</td>\n      <td>...</td>\n    </tr>\n    <tr>\n      <th>17</th>\n      <td>0.675</td>\n      <td>0.466</td>\n      <td>1.000000</td>\n      <td>0.482273</td>\n      <td>0</td>\n      <td>0.2010</td>\n      <td>0.36100</td>\n      <td>0.000000</td>\n      <td>0.1100</td>\n      <td>0.3470</td>\n      <td>0.754718</td>\n      <td>148781</td>\n      <td>Glitch</td>\n      <td>0.019696</td>\n      <td>Taylor Swift Album</td>\n    </tr>\n    <tr>\n      <th>18</th>\n      <td>0.483</td>\n      <td>0.840</td>\n      <td>0.636364</td>\n      <td>0.717902</td>\n      <td>1</td>\n      <td>0.1190</td>\n      <td>0.43000</td>\n      <td>0.000575</td>\n      <td>0.1460</td>\n      <td>0.5500</td>\n      <td>0.816404</td>\n      <td>260362</td>\n      <td>Would've, Could've, Should've</td>\n      <td>0.019696</td>\n      <td>Taylor Swift Album</td>\n    </tr>\n    <tr>\n      <th>19</th>\n      <td>0.562</td>\n      <td>0.388</td>\n      <td>0.000000</td>\n      <td>0.310840</td>\n      <td>1</td>\n      <td>0.0705</td>\n      <td>0.48100</td>\n      <td>0.001450</td>\n      <td>0.1170</td>\n      <td>0.1590</td>\n      <td>0.635357</td>\n      <td>225194</td>\n      <td>Dear Reader</td>\n      <td>0.019696</td>\n      <td>Taylor Swift Album</td>\n    </tr>\n    <tr>\n      <th>10</th>\n      <td>0.649</td>\n      <td>0.622</td>\n      <td>0.727273</td>\n      <td>0.678071</td>\n      <td>1</td>\n      <td>0.0582</td>\n      <td>0.07400</td>\n      <td>0.000000</td>\n      <td>0.5940</td>\n      <td>0.1060</td>\n      <td>0.571479</td>\n      <td>204852</td>\n      <td>Karma</td>\n      <td>0.019696</td>\n      <td>Taylor Swift Album</td>\n    </tr>\n    <tr>\n      <th>0</th>\n      <td>0.735</td>\n      <td>0.444</td>\n      <td>0.909091</td>\n      <td>0.425299</td>\n      <td>1</td>\n      <td>0.0684</td>\n      <td>0.20400</td>\n      <td>0.001200</td>\n      <td>0.1700</td>\n      <td>0.0984</td>\n      <td>0.596759</td>\n      <td>202396</td>\n      <td>Lavender Haze</td>\n      <td>0.019696</td>\n      <td>Taylor Swift Album</td>\n    </tr>\n  </tbody>\n</table>\n<p>191 rows × 15 columns</p>\n</div>"
     },
     "execution_count": 35,
     "metadata": {},
     "output_type": "execute_result"
    }
   ],
   "source": [
    "# Standardizing features on the range 0-1\n",
    "stand_columns = ['key', 'loudness', 'tempo', 'age']\n",
    "\n",
    "for col in stand_columns:\n",
    "    min = df[col].min()\n",
    "    df[col] = df[col]+abs(min)\n",
    "    max = df[col].max()\n",
    "    df[col] = df[col]/max\n",
    "\n",
    "df"
   ],
   "metadata": {
    "collapsed": false
   }
  },
  {
   "cell_type": "code",
   "execution_count": 36,
   "outputs": [],
   "source": [
    "#Export to csv\n",
    "if artist_id == taylor:\n",
    "    df.to_csv('taylor_spotify.csv')\n",
    "\n",
    "if artist_id == drake:\n",
    "    df.to_csv('drake_spotify.csv')"
   ],
   "metadata": {
    "collapsed": false
   }
  }
 ],
 "metadata": {
  "kernelspec": {
   "display_name": "Python 3",
   "language": "python",
   "name": "python3"
  },
  "language_info": {
   "codemirror_mode": {
    "name": "ipython",
    "version": 2
   },
   "file_extension": ".py",
   "mimetype": "text/x-python",
   "name": "python",
   "nbconvert_exporter": "python",
   "pygments_lexer": "ipython2",
   "version": "2.7.6"
  }
 },
 "nbformat": 4,
 "nbformat_minor": 0
}
